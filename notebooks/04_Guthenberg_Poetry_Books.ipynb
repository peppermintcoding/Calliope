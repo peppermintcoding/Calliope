{
 "cells": [
  {
   "cell_type": "markdown",
   "metadata": {},
   "source": [
    "### Extract all Books about Poetry form Project Guthenberg"
   ]
  },
  {
   "cell_type": "code",
   "execution_count": 11,
   "metadata": {},
   "outputs": [],
   "source": [
    "import json\n",
    "import re\n",
    "\n",
    "import requests\n",
    "from tqdm import tqdm\n",
    "\n",
    "# for downloading the txt file directly\n",
    "TXT_URL = \"https://www.gutenberg.org/cache/epub/{}/pg{}.txt\"\n"
   ]
  },
  {
   "cell_type": "code",
   "execution_count": null,
   "metadata": {},
   "outputs": [],
   "source": [
    "poetry_books = {}\n",
    "topic = \"poetry\"\n",
    "result = requests.get(url=f\"https://gutendex.com/books/?page=1&topic={topic}\")\n",
    "content = json.loads(result.content)\n",
    "\n",
    "while True:\n",
    "    for book in content[\"results\"]:\n",
    "        if book[\"languages\"] == [\"en\"]:\n",
    "            # account for different translations\n",
    "            if book[\"title\"] in poetry_books.keys():\n",
    "                poetry_books[book[\"title\"]].append(\n",
    "                    TXT_URL.format(book[\"id\"], book[\"id\"])\n",
    "                )\n",
    "            else:\n",
    "                poetry_books[book[\"title\"]] = [TXT_URL.format(book[\"id\"], book[\"id\"])]\n",
    "    print(f\"Total number of books so far: {len(list(poetry_books.keys()))}\")\n",
    "    if not content[\"next\"]:\n",
    "        break\n",
    "    result = requests.get(content[\"next\"])\n",
    "    content = json.loads(result.content)\n",
    "\n",
    "with open(\"guthenberg_poetry_books.json\", \"w\") as f:\n",
    "    f.write(json.dumps(poetry_books, indent=4))\n"
   ]
  },
  {
   "cell_type": "markdown",
   "metadata": {},
   "source": [
    "### Download all Books"
   ]
  },
  {
   "cell_type": "code",
   "execution_count": 2,
   "metadata": {},
   "outputs": [],
   "source": [
    "with open(\"guthenberg_poetry_books.json\", \"r\") as f:\n",
    "    poetry_books = json.load(f)\n"
   ]
  },
  {
   "cell_type": "code",
   "execution_count": 14,
   "metadata": {},
   "outputs": [
    {
     "name": "stderr",
     "output_type": "stream",
     "text": [
      "100%|██████████| 2713/2713 [34:13<00:00,  1.32it/s]\n"
     ]
    }
   ],
   "source": [
    "failed_to_download = {}\n",
    "for title, urls in tqdm(poetry_books.items()):\n",
    "    downloaded = False\n",
    "    for url in urls:\n",
    "        result = requests.get(url=url)\n",
    "        # always download the first available translation\n",
    "        if result.status_code == 200:\n",
    "            downloaded = True\n",
    "            break\n",
    "    if downloaded:\n",
    "        clean_title = re.sub(\"[^A-Za-z]\", \"\", title)\n",
    "        # truncate titles that are way too long\n",
    "        clean_title = clean_title[:75]\n",
    "        with open(f\"guthenberg_books/{clean_title}.txt\", \"w\", encoding=\"utf-8\") as f:\n",
    "            f.write(result.content.decode(\"utf-8\"))\n",
    "    else:\n",
    "        failed_to_download[title] = urls\n",
    "\n",
    "with open(\"failed_to_download.json\", \"w\") as f:\n",
    "    f.write(json.dumps(failed_to_download, indent=4))"
   ]
  }
 ],
 "metadata": {
  "kernelspec": {
   "display_name": "Python 3",
   "language": "python",
   "name": "python3"
  },
  "language_info": {
   "codemirror_mode": {
    "name": "ipython",
    "version": 3
   },
   "file_extension": ".py",
   "mimetype": "text/x-python",
   "name": "python",
   "nbconvert_exporter": "python",
   "pygments_lexer": "ipython3",
   "version": "3.10.7"
  }
 },
 "nbformat": 4,
 "nbformat_minor": 2
}
