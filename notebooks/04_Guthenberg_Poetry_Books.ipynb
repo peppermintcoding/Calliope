{
 "cells": [
  {
   "cell_type": "markdown",
   "metadata": {},
   "source": [
    "### Extract all Books about Poetry form Project Guthenberg"
   ]
  },
  {
   "cell_type": "code",
   "execution_count": 11,
   "metadata": {},
   "outputs": [],
   "source": [
    "import json\n",
    "import re\n",
    "\n",
    "import requests\n",
    "from tqdm import tqdm\n",
    "\n",
    "# for downloading the txt file directly\n",
    "TXT_URL = \"https://www.gutenberg.org/cache/epub/{}/pg{}.txt\"\n"
   ]
  },
  {
   "cell_type": "code",
   "execution_count": null,
   "metadata": {},
   "outputs": [],
   "source": [
    "poetry_books = {}\n",
    "topic = \"poetry\"\n",
    "result = requests.get(url=f\"https://gutendex.com/books/?page=1&topic={topic}\")\n",
    "content = json.loads(result.content)\n",
    "\n",
    "while True:\n",
    "    for book in content[\"results\"]:\n",
    "        if book[\"languages\"] == [\"en\"]:\n",
    "            # account for different translations\n",
    "            if book[\"title\"] in poetry_books.keys():\n",
    "                poetry_books[book[\"title\"]].append(\n",
    "                    TXT_URL.format(book[\"id\"], book[\"id\"])\n",
    "                )\n",
    "            else:\n",
    "                poetry_books[book[\"title\"]] = [TXT_URL.format(book[\"id\"], book[\"id\"])]\n",
    "    print(f\"Total number of books so far: {len(list(poetry_books.keys()))}\")\n",
    "    if not content[\"next\"]:\n",
    "        break\n",
    "    result = requests.get(content[\"next\"])\n",
    "    content = json.loads(result.content)\n",
    "\n",
    "with open(\"guthenberg_poetry_books.json\", \"w\") as f:\n",
    "    f.write(json.dumps(poetry_books, indent=4))\n"
   ]
  },
  {
   "cell_type": "markdown",
   "metadata": {},
   "source": [
    "### Download all Books"
   ]
  },
  {
   "cell_type": "code",
   "execution_count": 2,
   "metadata": {},
   "outputs": [],
   "source": [
    "with open(\"guthenberg_poetry_books.json\", \"r\") as f:\n",
    "    poetry_books = json.load(f)\n"
   ]
  },
  {
   "cell_type": "code",
   "execution_count": 14,
   "metadata": {},
   "outputs": [
    {
     "name": "stderr",
     "output_type": "stream",
     "text": [
      "100%|██████████| 2713/2713 [34:13<00:00,  1.32it/s]\n"
     ]
    }
   ],
   "source": [
    "failed_to_download = {}\n",
    "for title, urls in tqdm(poetry_books.items()):\n",
    "    downloaded = False\n",
    "    for url in urls:\n",
    "        result = requests.get(url=url)\n",
    "        # always download the first available translation\n",
    "        if result.status_code == 200:\n",
    "            downloaded = True\n",
    "            break\n",
    "    if downloaded:\n",
    "        clean_title = re.sub(\"[^A-Za-z]\", \"\", title)\n",
    "        # truncate titles that are way too long\n",
    "        clean_title = clean_title[:75]\n",
    "        with open(f\"guthenberg_books/{clean_title}.txt\", \"w\", encoding=\"utf-8\") as f:\n",
    "            f.write(result.content.decode(\"utf-8\"))\n",
    "    else:\n",
    "        failed_to_download[title] = urls\n",
    "\n",
    "with open(\"failed_to_download.json\", \"w\") as f:\n",
    "    f.write(json.dumps(failed_to_download, indent=4))"
   ]
  },
  {
   "cell_type": "markdown",
   "metadata": {},
   "source": [
    "### Process books"
   ]
  },
  {
   "cell_type": "code",
   "execution_count": 25,
   "metadata": {},
   "outputs": [],
   "source": [
    "import numpy as np\n",
    "from tqdm import tqdm\n",
    "import os\n",
    "import re"
   ]
  },
  {
   "cell_type": "code",
   "execution_count": 3,
   "metadata": {},
   "outputs": [],
   "source": [
    "books = os.listdir(\"guthenberg_books\")\n",
    "random_book = np.random.choice(books)"
   ]
  },
  {
   "cell_type": "code",
   "execution_count": 19,
   "metadata": {},
   "outputs": [],
   "source": [
    "def extract_content(filename: str):\n",
    "    with open(filename, \"r\", encoding=\"utf-8\") as f:\n",
    "        book_data = f.read()\n",
    "    lines = book_data.split(\"\\n\")\n",
    "    start_idx = None\n",
    "    end_idx = None\n",
    "    for i, line in enumerate(lines):\n",
    "        if line.strip().startswith(\"*** END OF THE PROJECT\"):\n",
    "           end_idx = i\n",
    "        elif line.strip().startswith(\"*** START OF THE PROJECT\"):\n",
    "           start_idx = i\n",
    "    if not start_idx or not end_idx:\n",
    "        print(f\"Could not find content markers for {filename}\")\n",
    "        return None\n",
    "    return \"\\n\".join(lines[start_idx+1:end_idx-1])"
   ]
  },
  {
   "cell_type": "code",
   "execution_count": 21,
   "metadata": {},
   "outputs": [
    {
     "name": "stderr",
     "output_type": "stream",
     "text": [
      "  0%|          | 0/2511 [00:00<?, ?it/s]"
     ]
    },
    {
     "name": "stderr",
     "output_type": "stream",
     "text": [
      " 31%|███       | 782/2511 [00:08<00:44, 38.62it/s] "
     ]
    },
    {
     "name": "stdout",
     "output_type": "stream",
     "text": [
      "Could not process Kalevala \n"
     ]
    },
    {
     "name": "stderr",
     "output_type": "stream",
     "text": [
      " 63%|██████▎   | 1572/2511 [00:17<00:08, 106.68it/s]"
     ]
    },
    {
     "name": "stdout",
     "output_type": "stream",
     "text": [
      "Could not process The complete works of John Gower, volume 4 \n",
      "Could not process The vision of hell.\n"
     ]
    },
    {
     "name": "stderr",
     "output_type": "stream",
     "text": [
      "100%|██████████| 2511/2511 [00:34<00:00, 73.02it/s] \n"
     ]
    }
   ],
   "source": [
    "for book_name in tqdm(books):\n",
    "    try:\n",
    "        extracted_content = extract_content(f\"guthenberg_books/{book_name}\")\n",
    "    except Exception as _:\n",
    "        print(f\"Could not process {book_name}\")\n",
    "    with open(f\"guthenberg_books_clean/{book_name}\", \"w\", encoding=\"utf-8\") as f:\n",
    "        f.write(extracted_content)"
   ]
  },
  {
   "cell_type": "code",
   "execution_count": 28,
   "metadata": {},
   "outputs": [],
   "source": [
    "def remove_illustrations(book_content: str):\n",
    "    pattern = re.compile(r'\\[ILLUSTRATION\\]\\n')\n",
    "    return pattern.sub('', book_content)\n",
    "\n",
    "def remove_too_many_newlines(book_content: str):\n",
    "    pattern = re.compile(r'\\n{3,}')\n",
    "    return pattern.sub('\\n', book_content)"
   ]
  },
  {
   "cell_type": "code",
   "execution_count": 29,
   "metadata": {},
   "outputs": [
    {
     "name": "stderr",
     "output_type": "stream",
     "text": [
      "100%|██████████| 2511/2511 [00:24<00:00, 102.28it/s]\n"
     ]
    }
   ],
   "source": [
    "for book_name in tqdm(os.listdir(\"guthenberg_books_clean\")):\n",
    "    with open(f\"guthenberg_books_clean/{book_name}\", \"r\", encoding=\"utf-8\") as f:\n",
    "        content = f.read()\n",
    "    clean_content = remove_illustrations(content)\n",
    "    clean_content = remove_too_many_newlines(clean_content)\n",
    "    with open(f\"guthenberg_books_clean/{book_name}\", \"w\", encoding=\"utf-8\") as f:\n",
    "        f.write(clean_content)"
   ]
  },
  {
   "cell_type": "markdown",
   "metadata": {},
   "source": [
    "### Count words"
   ]
  },
  {
   "cell_type": "code",
   "execution_count": 30,
   "metadata": {},
   "outputs": [
    {
     "name": "stderr",
     "output_type": "stream",
     "text": [
      "100%|██████████| 2511/2511 [00:12<00:00, 202.76it/s]"
     ]
    },
    {
     "name": "stdout",
     "output_type": "stream",
     "text": [
      "Number of words from all books: 77,696,677\n"
     ]
    },
    {
     "name": "stderr",
     "output_type": "stream",
     "text": [
      "\n"
     ]
    }
   ],
   "source": [
    "number_of_words = 0\n",
    "for book_name in tqdm(os.listdir(\"guthenberg_books_clean\")):\n",
    "    with open(f\"guthenberg_books_clean/{book_name}\", \"r\", encoding=\"utf-8\") as f:\n",
    "        content = f.read()\n",
    "    number_of_words += len(content.split())\n",
    "print(f\"Number of words from all books: {number_of_words:,}\")"
   ]
  }
 ],
 "metadata": {
  "kernelspec": {
   "display_name": "Python 3",
   "language": "python",
   "name": "python3"
  },
  "language_info": {
   "codemirror_mode": {
    "name": "ipython",
    "version": 3
   },
   "file_extension": ".py",
   "mimetype": "text/x-python",
   "name": "python",
   "nbconvert_exporter": "python",
   "pygments_lexer": "ipython3",
   "version": "3.10.7"
  }
 },
 "nbformat": 4,
 "nbformat_minor": 2
}
